{
 "cells": [
  {
   "cell_type": "markdown",
   "metadata": {},
   "source": [
    "## Import and process the public dataset\n"
   ]
  },
  {
   "cell_type": "markdown",
   "metadata": {},
   "source": [
    "### 1. Download and extract original files\n",
    "First, let's download the IDD microdata. From http://inep.gov.br/microdados, under the section heading \"Indicador da Diferença entre os Desempenhos Observado e Esperado (IDD)\""
   ]
  },
  {
   "cell_type": "code",
   "execution_count": 1,
   "metadata": {},
   "outputs": [
    {
     "name": "stdout",
     "output_type": "stream",
     "text": [
      "skipping, microdados_idd_2014.zip already download\n",
      "skipping, microdados_idd_2015.zip already download\n",
      "skipping, microdados_idd_2016.zip already download\n",
      "skipping, microdados_idd_2017.zip already download\n"
     ]
    }
   ],
   "source": [
    "import os,sys,zipfile\n",
    "import requests\n",
    "original = 'data/original'\n",
    "\n",
    "URLs = [\"http://download.inep.gov.br/microdados/microdados_idd_2014.zip\",\n",
    "        \"http://download.inep.gov.br/microdados/microdados_idd_2015.zip\",\n",
    "        \"http://download.inep.gov.br/microdados/microdados_idd_2016.zip\",\n",
    "        \"http://download.inep.gov.br/microdados/microdados_idd_2017.zip\"]\n",
    "for url in URLs:\n",
    "    fn = url.split('/')[-1]\n",
    "    if os.path.isfile(os.path.join(original,fn)):\n",
    "        print(\"skipping, {} already download\".format(fn))\n",
    "    else:\n",
    "        r = requests.get(url, allow_redirects=True)\n",
    "        open(os.path.join(original,fn), 'wb').write(r.content)\n",
    "    ano = fn.split('_')[-1][:4]\n",
    "    if not os.path.isdir(os.path.join(original,ano)):\n",
    "        zipf = zipfile.ZipFile(os.path.join(original,fn), 'r')\n",
    "        zipf.extractall(os.path.join(original,ano))\n",
    "        zipf.close()"
   ]
  },
  {
   "cell_type": "markdown",
   "metadata": {},
   "source": [
    "Second, the oficial results for the indicators per course, from [here](http://portal.inep.gov.br/web/guest/indicadores-de-qualidade). Ideally, we'd use the oficial spreadsheets with [the course IDDs](http://portal.inep.gov.br/web/guest/educacao-superior/indicadores-de-qualidade/indicador-de-diferenca-entre-os-desempenhos-observado-e-esperado-idd), but these data are currently only available for 2016 and 20017. Therefore, for 2014 and 2015 we use spreadsheets for the \"CPC\" (Conceito Preliminar do Curso) indicator, from [here](http://portal.inep.gov.br/web/guest/conceito-preliminar-de-curso-cpc-). \n",
    "\n",
    "However, it must be noted that before 2015, these spreadsheets only contain the IDD results aggregated by the so-called \"Unidade de observação\" (observed unit), which are all the courses within an institution (university or college) within one municipality. Some courses have more than one \"version\" within one institution and municipality (for example night-time and day-time courses), and the CPC and its inputs like the IDD were not reported separately before 2015. "
   ]
  },
  {
   "cell_type": "code",
   "execution_count": 2,
   "metadata": {},
   "outputs": [
    {
     "name": "stdout",
     "output_type": "stream",
     "text": [
      "skipping, cpc_2012_site_2014_03_14.xls already download\n",
      "skipping, cpc2013_atualizado_em_27112017.xls already download\n",
      "skipping, cpc2014_atualizado_em_04122017.xlsx already download\n",
      "skipping, cpc_2015_portal_atualizado_03_10_2017.xls already download\n",
      "skipping, Resultado_CPC_2016_portal_23_02_2018.xls already download\n",
      "skipping, resultado_cpc_2017.xlsx already download\n",
      "skipping, resultado_IDD2016_portal_06_09_2017.xlsx already download\n",
      "skipping, resultados_IDD_2017.xlsx already download\n"
     ]
    }
   ],
   "source": [
    "cpcURLs = [\"http://download.inep.gov.br/educacao_superior/enade/planilhas/2012/cpc_2012_site_2014_03_14.xls\",\n",
    "           \"http://download.inep.gov.br/educacao_superior/enade/planilhas/2013/cpc2013_atualizado_em_27112017.xls\",\n",
    "           \"http://download.inep.gov.br/educacao_superior/enade/planilhas/2014/cpc2014_atualizado_em_04122017.xlsx\",\n",
    "           \"http://download.inep.gov.br/educacao_superior/indicadores/legislacao/2017/cpc_2015_portal_atualizado_03_10_2017.xls\",\n",
    "           \"http://download.inep.gov.br/educacao_superior/indicadores/legislacao/2017/Resultado_CPC_2016_portal_23_02_2018.xls\",\n",
    "           \"http://download.inep.gov.br/educacao_superior/igc_cpc/2018/resultado_cpc_2017.xlsx\"\n",
    "        ]\n",
    "\n",
    "iddURLs = [\"http://download.inep.gov.br/educacao_superior/indicadores/legislacao/2017/resultado_IDD2016_portal_06_09_2017.xlsx\",\n",
    "           \"http://download.inep.gov.br/educacao_superior/indicadores/legislacao/2018/resultados_IDD_2017.xlsx\"]\n",
    "\n",
    "for url in cpcURLs + iddURLs:\n",
    "    fn = url.split('/')[-1]\n",
    "    if os.path.isfile(os.path.join(original,fn)):\n",
    "        print(\"skipping, {} already download\".format(fn))\n",
    "    else:\n",
    "        r = requests.get(url, allow_redirects=True)\n",
    "        open(os.path.join(original,fn), 'wb').write(r.content)"
   ]
  },
  {
   "cell_type": "markdown",
   "metadata": {},
   "source": [
    "### 2. Process the orginal data\n",
    "We'll put processed, intermediate data files into data/processed as csv files.\n",
    "\n",
    "First, the **microdata**. The download and unzip above should have created the following comma separated microdata, which we will transform into files with standardized column names. For now, we'll only use the microdata of 2014 and 2017 (which are the only years for which the same areas were evaluated with the new \"ENEM\" methodology)."
   ]
  },
  {
   "cell_type": "code",
   "execution_count": 25,
   "metadata": {},
   "outputs": [],
   "source": [
    "import pandas as pd\n",
    "processed = 'data/processed'\n",
    "files = {2014:'data/original/2014/Dados/microdados_idd_2014.csv',\n",
    "         2015:'data/original/2015/microdados_idd_2015/2.Dados/microdados_idd_2015.csv',\n",
    "         2016:'data/original/2016/2.Dados/microdados_idd_2016.csv',\n",
    "         2017:'data/original/2017/3.DADOS/MICRODADOS_IDD_2017.txt'}\n",
    "\n",
    "def processes_idd_microdata(df):\n",
    "    df = df[['ano','area','ies','catacad','orgacad','curso','municipio','ingresso','nota','cn','ch','lc','mt']]\n",
    "    ano = df['ano'][0]\n",
    "    df.to_csv(os.path.join(processed,\"idd-microdata-{}.csv\".format(ano)),index=False)\n",
    "    return df\n",
    "\n",
    "# 2014\n",
    "oldcols = ['nu_ano','co_grupo','co_ies','co_catad','co_orgac','co_munic_curso','co_curso','ano_in_grad','tp_inscricao','tp_pres','nt_ger','enem_nt_cn','enem_nt_ch','enem_nt_lc','enem_nt_mt']\n",
    "df = pd.read_table(files[2014],sep=';',usecols=oldcols)\n",
    "df.columns = ['ano','area','ies','catacad','orgacad','municipio','curso','ingresso','tp_inscricao','tp_pres','nota','cn','ch','lc','mt']\n",
    "df = df[df['tp_pres'] == 555] # presente com resultado válido\n",
    "df = df[df['tp_inscricao'] == 0] # Concluinte\n",
    "df = processes_idd_microdata(df)\n",
    "\n",
    "#2017\n",
    "oldcols = ['NU_ANO','CO_IES','CO_CATEGAD','CO_ORGACAD','CO_GRUPO','CO_CURSO','CO_MUNIC_CURSO','ANO_IN_GRAD','NT_GER','VL_NOTA_ENEM_CN','VL_NOTA_ENEM_CH','VL_NOTA_ENEM_LC','VL_NOTA_ENEM_MT']\n",
    "df = pd.read_table(files[2017],sep=';',usecols=oldcols)\n",
    "df.columns = ['ano','ies','catacad','orgacad','area','curso','municipio','ingresso','nota','cn','ch','lc','mt']\n",
    "df = processes_idd_microdata(df)"
   ]
  },
  {
   "cell_type": "markdown",
   "metadata": {},
   "source": [
    "Second, the **spreadsheets** with the results INEP published. Let's transform the ridiculous spreadsheets into nice csv files. We have the IDD spreadsheets for 2016 and 2017:"
   ]
  },
  {
   "cell_type": "code",
   "execution_count": 11,
   "metadata": {},
   "outputs": [],
   "source": [
    "idd17 = pd.read_excel('data/original/resultados_IDD_2017.xlsx',usecols=[1,8,15,17])\n",
    "idd17.columns = ['area','curso','N','idd']\n",
    "idd17.curso = idd17.curso.astype('str')\n",
    "idd17['ano'] = 2017\n",
    "idd17.to_csv(os.path.join(processed,\"idd-pub-2017.csv\"),index=False)"
   ]
  },
  {
   "cell_type": "code",
   "execution_count": 12,
   "metadata": {},
   "outputs": [],
   "source": [
    "idd16 = pd.read_excel('data/original/resultado_IDD2016_portal_06_09_2017.xlsx',usecols=[6,7,15,17])\n",
    "idd16.columns = ['curso','area','N','idd']\n",
    "idd16 = idd16[['area','curso','N','idd']]\n",
    "idd16.curso = idd16.curso.astype('str')\n",
    "idd16['ano'] = 2016\n",
    "idd16.to_csv(os.path.join(processed,\"idd-pub-2016.csv\"),index=False)"
   ]
  },
  {
   "cell_type": "markdown",
   "metadata": {},
   "source": [
    "But the same information is in the **CPC spreadsheets**. Unfortunately, as noted above, in the CPC spreadsheets the \"código do curso\" is only identified after 2015: \"O CPC, assim como o Conceito Enade, também passou a ser calculado, a partir da edição de 2015, por curso de graduação, identificado pelo código do curso constante no Sistema e-MEC\" (see [here](http://portal.inep.gov.br/conceito-preliminar-de-curso-cpc-))"
   ]
  },
  {
   "cell_type": "code",
   "execution_count": 164,
   "metadata": {},
   "outputs": [],
   "source": [
    "def xls2csv(ano,fn,cols,colnames):\n",
    "    df = pd.read_excel(fn,usecols=cols,na_values=['-','.'])\n",
    "    df.columns = colnames\n",
    "    if ano in [2015,2016]:\n",
    "        df = df[['area','ies','municipio','curso','N','fracN','idd','cpc','cpcf']]\n",
    "    if ano == 2012:\n",
    "        df = df[['area','ies','municipio','Ncursos','N','idd','cpc','cpcf']]\n",
    "    df['ano'] = ano\n",
    "    return df"
   ]
  },
  {
   "cell_type": "code",
   "execution_count": 124,
   "metadata": {},
   "outputs": [],
   "source": [
    "cols = pd.read_excel(cpcfiles[2016]).columns"
   ]
  },
  {
   "cell_type": "code",
   "execution_count": 131,
   "metadata": {},
   "outputs": [
    {
     "data": {
      "text/plain": [
       "'Código da IES'"
      ]
     },
     "execution_count": 131,
     "metadata": {},
     "output_type": "execute_result"
    }
   ],
   "source": [
    "cols[1]"
   ]
  },
  {
   "cell_type": "code",
   "execution_count": 162,
   "metadata": {},
   "outputs": [],
   "source": [
    "cpcfiles = {2017:'data/original/resultado_cpc_2017.xlsx',\n",
    "            2016: 'data/original/Resultado_CPC_2016_portal_23_02_2018.xls',\n",
    "            2015: 'data/original/cpc_2015_portal_atualizado_03_10_2017.xls',\n",
    "            2014: 'data/original/cpc2014_atualizado_em_04122017.xlsx',\n",
    "            2013: 'data/original/cpc2013_atualizado_em_27112017.xls',\n",
    "            2012: 'data/original/cpc_2012_site_2014_03_14.xls'}\n",
    "cpccols = {2017: [[1,3,8,10,13,14,17,18,19,20,35,36],['area','ies','curso','municipio','Nci','Ncp','enade','N','fracN','idd','cpc','cpcf']], #N = conluintes com nota no enem\n",
    "           2016: [[1,6,7,10,18,19,20,35,36],['ies','curso','area','municipio','N','fracN','idd','cpc','cpcf']], #idd = Nota Bruta - IDD\n",
    "           2015: [[1,6,7,10,18,19,20,35,36], ['ies','curso','area','municipio','N','fracN','idd','cpc','cpcf']],\n",
    "           2014: [[1,3,8,12,13,14,18,25,26,27,37,38], ['area','ies','municipio','Ncursos','Nci','Ncp','enade','N','fracN','idd','cpc','cpcf']],\n",
    "           2013: [[1,3,8,12,14,29,37,38], ['area','ies','municipio','Ncursos','N','idd','cpc','cpcf']],\n",
    "           2012: [[1,3,8,9,13,24,36,37], ['area','ies','Ncursos','municipio','N','idd','cpc','cpcf']]}"
   ]
  },
  {
   "cell_type": "code",
   "execution_count": 163,
   "metadata": {},
   "outputs": [],
   "source": [
    "for ano in range(2012,2018):\n",
    "    df = xls2csv(ano,cpcfiles[ano],cols=cpccols[ano][0],colnames = cpccols[ano][1])\n",
    "    df.to_csv(os.path.join(processed,\"cpc-pub-{}.csv\".format(ano)),index=False)"
   ]
  },
  {
   "cell_type": "code",
   "execution_count": 159,
   "metadata": {},
   "outputs": [
    {
     "data": {
      "text/plain": [
       "area           int64\n",
       "ies            int64\n",
       "municipio      int64\n",
       "Ncursos        int64\n",
       "N              int64\n",
       "fracN        float64\n",
       "idd          float64\n",
       "cpc          float64\n",
       "cpcf          object\n",
       "ano            int64\n",
       "dtype: object"
      ]
     },
     "execution_count": 159,
     "metadata": {},
     "output_type": "execute_result"
    }
   ],
   "source": [
    "ano = 2014\n",
    "df = pd.read_csv('data/processed/cpc-pub-{}.csv'.format(ano))\n",
    "df.dtypes"
   ]
  },
  {
   "cell_type": "code",
   "execution_count": 155,
   "metadata": {},
   "outputs": [
    {
     "data": {
      "text/html": [
       "<div>\n",
       "<style scoped>\n",
       "    .dataframe tbody tr th:only-of-type {\n",
       "        vertical-align: middle;\n",
       "    }\n",
       "\n",
       "    .dataframe tbody tr th {\n",
       "        vertical-align: top;\n",
       "    }\n",
       "\n",
       "    .dataframe thead th {\n",
       "        text-align: right;\n",
       "    }\n",
       "</style>\n",
       "<table border=\"1\" class=\"dataframe\">\n",
       "  <thead>\n",
       "    <tr style=\"text-align: right;\">\n",
       "      <th></th>\n",
       "      <th>Código da área</th>\n",
       "      <th>Código da IES</th>\n",
       "      <th>Número de cursos da unidade</th>\n",
       "      <th>Código do município do curso</th>\n",
       "      <th>Número concluintes participantes no Enade</th>\n",
       "      <th>Nota bruta do IDD</th>\n",
       "      <th>CPC (contínuo)</th>\n",
       "      <th>CPC (faixa)</th>\n",
       "    </tr>\n",
       "  </thead>\n",
       "  <tbody>\n",
       "    <tr>\n",
       "      <th>7055</th>\n",
       "      <td>804</td>\n",
       "      <td>4141</td>\n",
       "      <td>1</td>\n",
       "      <td>3554102</td>\n",
       "      <td>58</td>\n",
       "      <td>0.025767</td>\n",
       "      <td>3.149177</td>\n",
       "      <td>4</td>\n",
       "    </tr>\n",
       "    <tr>\n",
       "      <th>4994</th>\n",
       "      <td>84</td>\n",
       "      <td>322</td>\n",
       "      <td>1</td>\n",
       "      <td>3547304</td>\n",
       "      <td>12</td>\n",
       "      <td>3.550726</td>\n",
       "      <td>3.120806</td>\n",
       "      <td>4</td>\n",
       "    </tr>\n",
       "    <tr>\n",
       "      <th>2153</th>\n",
       "      <td>2</td>\n",
       "      <td>1064</td>\n",
       "      <td>1</td>\n",
       "      <td>3205309</td>\n",
       "      <td>91</td>\n",
       "      <td>3.144308</td>\n",
       "      <td>3.297670</td>\n",
       "      <td>4</td>\n",
       "    </tr>\n",
       "    <tr>\n",
       "      <th>3015</th>\n",
       "      <td>18</td>\n",
       "      <td>254</td>\n",
       "      <td>1</td>\n",
       "      <td>3550308</td>\n",
       "      <td>0</td>\n",
       "      <td>NaN</td>\n",
       "      <td>NaN</td>\n",
       "      <td>SC</td>\n",
       "    </tr>\n",
       "    <tr>\n",
       "      <th>1199</th>\n",
       "      <td>1</td>\n",
       "      <td>2334</td>\n",
       "      <td>1</td>\n",
       "      <td>3304524</td>\n",
       "      <td>25</td>\n",
       "      <td>-0.893397</td>\n",
       "      <td>2.264385</td>\n",
       "      <td>3</td>\n",
       "    </tr>\n",
       "  </tbody>\n",
       "</table>\n",
       "</div>"
      ],
      "text/plain": [
       "      Código da área  Código da IES  Número de cursos da unidade  \\\n",
       "7055             804           4141                            1   \n",
       "4994              84            322                            1   \n",
       "2153               2           1064                            1   \n",
       "3015              18            254                            1   \n",
       "1199               1           2334                            1   \n",
       "\n",
       "      Código do município do curso  Número concluintes participantes no Enade  \\\n",
       "7055                       3554102                                         58   \n",
       "4994                       3547304                                         12   \n",
       "2153                       3205309                                         91   \n",
       "3015                       3550308                                          0   \n",
       "1199                       3304524                                         25   \n",
       "\n",
       "      Nota bruta do IDD  CPC (contínuo) CPC (faixa)  \n",
       "7055           0.025767        3.149177           4  \n",
       "4994           3.550726        3.120806           4  \n",
       "2153           3.144308        3.297670           4  \n",
       "3015                NaN             NaN          SC  \n",
       "1199          -0.893397        2.264385           3  "
      ]
     },
     "execution_count": 155,
     "metadata": {},
     "output_type": "execute_result"
    }
   ],
   "source": [
    "df = pd.read_excel(cpcfiles[2012],usecols=cpccols[2012][0],na_values=['-','.'])\n",
    "df.sample(5)"
   ]
  },
  {
   "cell_type": "code",
   "execution_count": 141,
   "metadata": {},
   "outputs": [
    {
     "data": {
      "text/plain": [
       "Código da Área                                                int64\n",
       "Código da IES                                                 int64\n",
       "Código do Município                                           int64\n",
       "Número de cursos da unidade                                   int64\n",
       "Concluintes Participantes com nota no Enem                    int64\n",
       "Percentual de Concluintes participantes com nota no Enem    float64\n",
       "Nota Bruta - IDD                                            float64\n",
       "CPC Contínuo                                                float64\n",
       "CPC Faixa                                                    object\n",
       "dtype: object"
      ]
     },
     "execution_count": 141,
     "metadata": {},
     "output_type": "execute_result"
    }
   ],
   "source": [
    "df.dtypes"
   ]
  }
 ],
 "metadata": {
  "kernelspec": {
   "display_name": "Python [default]",
   "language": "python",
   "name": "python3"
  },
  "language_info": {
   "codemirror_mode": {
    "name": "ipython",
    "version": 3
   },
   "file_extension": ".py",
   "mimetype": "text/x-python",
   "name": "python",
   "nbconvert_exporter": "python",
   "pygments_lexer": "ipython3",
   "version": "3.6.6"
  }
 },
 "nbformat": 4,
 "nbformat_minor": 2
}
