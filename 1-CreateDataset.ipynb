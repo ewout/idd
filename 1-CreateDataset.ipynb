{
 "cells": [
  {
   "cell_type": "markdown",
   "metadata": {},
   "source": [
    "## Import and process the public dataset\n"
   ]
  },
  {
   "cell_type": "markdown",
   "metadata": {},
   "source": [
    "### 1. Download and extract original files\n",
    "First, let's download the IDD microdata. From http://inep.gov.br/microdados, under the section heading \"Indicador da Diferença entre os Desempenhos Observado e Esperado (IDD)\""
   ]
  },
  {
   "cell_type": "code",
   "execution_count": 3,
   "metadata": {},
   "outputs": [],
   "source": [
    "import pandas as pd\n",
    "import os, sys,zipfile\n",
    "import requests\n",
    "original = 'data/original'\n",
    "processed = 'data/processed'\n"
   ]
  },
  {
   "cell_type": "code",
   "execution_count": 2,
   "metadata": {},
   "outputs": [
    {
     "name": "stdout",
     "output_type": "stream",
     "text": [
      "skipping, microdados_idd_2014.zip already download\n",
      "skipping, microdados_idd_2015.zip already download\n",
      "skipping, microdados_idd_2016.zip already download\n",
      "skipping, microdados_idd_2017.zip already download\n"
     ]
    }
   ],
   "source": [
    "\n",
    "\n",
    "URLs = [\"http://download.inep.gov.br/microdados/microdados_idd_2014.zip\",\n",
    "        \"http://download.inep.gov.br/microdados/microdados_idd_2015.zip\",\n",
    "        \"http://download.inep.gov.br/microdados/microdados_idd_2016.zip\",\n",
    "        \"http://download.inep.gov.br/microdados/microdados_idd_2017.zip\"]\n",
    "for url in URLs:\n",
    "    fn = url.split('/')[-1]\n",
    "    if os.path.isfile(os.path.join(original,fn)):\n",
    "        print(\"skipping, {} already download\".format(fn))\n",
    "    else:\n",
    "        r = requests.get(url, allow_redirects=True)\n",
    "        open(os.path.join(original,fn), 'wb').write(r.content)\n",
    "    ano = fn.split('_')[-1][:4]\n",
    "    if not os.path.isdir(os.path.join(original,ano)):\n",
    "        zipf = zipfile.ZipFile(os.path.join(original,fn), 'r')\n",
    "        zipf.extractall(os.path.join(original,ano))\n",
    "        zipf.close()"
   ]
  },
  {
   "cell_type": "markdown",
   "metadata": {},
   "source": [
    "Second, the oficial results for the indicators per course, from [here](http://portal.inep.gov.br/web/guest/indicadores-de-qualidade). Ideally, we'd use the oficial spreadsheets with [the course IDDs](http://portal.inep.gov.br/web/guest/educacao-superior/indicadores-de-qualidade/indicador-de-diferenca-entre-os-desempenhos-observado-e-esperado-idd), but these data are currently only available for 2016 and 20017. Therefore, for 2014 and 2015 we use spreadsheets for the \"CPC\" (Conceito Preliminar do Curso) indicator, from [here](http://portal.inep.gov.br/web/guest/conceito-preliminar-de-curso-cpc-). \n",
    "\n",
    "However, it must be noted that before 2015, these spreadsheets only contain the IDD results aggregated by the so-called \"Unidade de observação\" (observed unit), which are all the courses within an institution (university or college) within one municipality. Some courses have more than one \"version\" within one institution and municipality (for example night-time and day-time courses), and the CPC and its inputs like the IDD were not reported separately before 2015. "
   ]
  },
  {
   "cell_type": "code",
   "execution_count": 3,
   "metadata": {},
   "outputs": [
    {
     "name": "stdout",
     "output_type": "stream",
     "text": [
      "skipping, cpc_2012_site_2014_03_14.xls already download\n",
      "skipping, cpc2013_atualizado_em_27112017.xls already download\n",
      "skipping, cpc2014_atualizado_em_04122017.xlsx already download\n",
      "skipping, cpc_2015_portal_atualizado_03_10_2017.xls already download\n",
      "skipping, Resultado_CPC_2016_portal_23_02_2018.xls already download\n",
      "skipping, resultado_cpc_2017.xlsx already download\n",
      "skipping, resultado_IDD2016_portal_06_09_2017.xlsx already download\n",
      "skipping, resultados_IDD_2017.xlsx already download\n"
     ]
    }
   ],
   "source": [
    "cpcURLs = [\"http://download.inep.gov.br/educacao_superior/enade/planilhas/2012/cpc_2012_site_2014_03_14.xls\",\n",
    "           \"http://download.inep.gov.br/educacao_superior/enade/planilhas/2013/cpc2013_atualizado_em_27112017.xls\",\n",
    "           \"http://download.inep.gov.br/educacao_superior/enade/planilhas/2014/cpc2014_atualizado_em_04122017.xlsx\",\n",
    "           \"http://download.inep.gov.br/educacao_superior/indicadores/legislacao/2017/cpc_2015_portal_atualizado_03_10_2017.xls\",\n",
    "           \"http://download.inep.gov.br/educacao_superior/indicadores/legislacao/2017/Resultado_CPC_2016_portal_23_02_2018.xls\",\n",
    "           \"http://download.inep.gov.br/educacao_superior/igc_cpc/2018/resultado_cpc_2017.xlsx\"\n",
    "        ]\n",
    "\n",
    "iddURLs = [\"http://download.inep.gov.br/educacao_superior/indicadores/legislacao/2017/resultado_IDD2016_portal_06_09_2017.xlsx\",\n",
    "           \"http://download.inep.gov.br/educacao_superior/indicadores/legislacao/2018/resultados_IDD_2017.xlsx\"]\n",
    "\n",
    "for url in cpcURLs + iddURLs:\n",
    "    fn = url.split('/')[-1]\n",
    "    if os.path.isfile(os.path.join(original,fn)):\n",
    "        print(\"skipping, {} already download\".format(fn))\n",
    "    else:\n",
    "        r = requests.get(url, allow_redirects=True)\n",
    "        open(os.path.join(original,fn), 'wb').write(r.content)"
   ]
  },
  {
   "cell_type": "markdown",
   "metadata": {},
   "source": [
    "### 2. Process the orginal data\n",
    "We'll put processed, intermediate data files into data/processed as csv files.\n",
    "\n",
    "First, the **microdata**. The download and unzip above should have created the following comma separated microdata, which we will transform into files with standardized column names. For now, we'll only use the microdata of 2014 and 2017 (which are the only years for which the same areas were evaluated with the new \"ENEM\" methodology)."
   ]
  },
  {
   "cell_type": "code",
   "execution_count": 7,
   "metadata": {},
   "outputs": [],
   "source": []
  },
  {
   "cell_type": "code",
   "execution_count": 14,
   "metadata": {},
   "outputs": [
    {
     "name": "stderr",
     "output_type": "stream",
     "text": [
      "/opt/miniconda3/lib/python3.6/site-packages/ipykernel/__main__.py:19: SettingWithCopyWarning: \n",
      "A value is trying to be set on a copy of a slice from a DataFrame.\n",
      "Try using .loc[row_indexer,col_indexer] = value instead\n",
      "\n",
      "See the caveats in the documentation: http://pandas.pydata.org/pandas-docs/stable/indexing.html#indexing-view-versus-copy\n",
      "/opt/miniconda3/lib/python3.6/site-packages/ipykernel/__main__.py:17: SettingWithCopyWarning: \n",
      "A value is trying to be set on a copy of a slice from a DataFrame.\n",
      "Try using .loc[row_indexer,col_indexer] = value instead\n",
      "\n",
      "See the caveats in the documentation: http://pandas.pydata.org/pandas-docs/stable/indexing.html#indexing-view-versus-copy\n"
     ]
    }
   ],
   "source": [
    "files = {2014:'data/original/2014/Dados/microdados_idd_2014.csv',\n",
    "         2015:'data/original/2015/microdados_idd_2015/2.Dados/microdados_idd_2015.csv',\n",
    "         2016:'data/original/2016/2.Dados/microdados_idd_2016.csv',\n",
    "         2017:'data/original/2017/3.DADOS/MICRODADOS_IDD_2017.txt'}\n",
    "\n",
    "catadmmap17 = {1:'pub',2:'pub',3:'pub',4:'priv_cfl',5:'priv_sfl'}\n",
    "catadmmap14 = {93:'pub',116:'pub',118:'priv_cfl',121:'priv_sfl',10001:'pub',\n",
    "               10002:'pub',10003:'pub',10004:'priv_cfl',10005:'priv_cfl',\n",
    "               10006:'priv_cfl',10007:'priv_sfl',10008:'priv_sfl',10009:'priv_sfl'}\n",
    "def processes_idd_microdata(df):\n",
    "    df = df[['ano','area','ies','catadm','orgacad','curso','municipio','ingresso','nota','cn','ch','lc','mt']]\n",
    "    ano = df['ano'][0]\n",
    "    if ano == 2017:\n",
    "        df['adm'] = df['catadm'].map(catadmmap17)\n",
    "    if ano == 2014:\n",
    "        df['adm'] = df['catadm'].map(catadmmap14)\n",
    "    df.to_csv(os.path.join(processed,\"idd-microdata-{}.csv\".format(ano)),index=False)\n",
    "    return df\n",
    "\n",
    "# 2014\n",
    "oldcols = ['nu_ano','co_grupo','co_ies','co_catad','co_orgac','co_munic_curso','co_curso','ano_in_grad','tp_inscricao','tp_pres','nt_ger','enem_nt_cn','enem_nt_ch','enem_nt_lc','enem_nt_mt']\n",
    "df = pd.read_table(files[2014],sep=';',usecols=oldcols)\n",
    "df.columns = ['ano','area','ies','catadm','orgacad','municipio','curso','ingresso','tp_inscricao','tp_pres','nota','cn','ch','lc','mt']\n",
    "df = df[df['tp_pres'] == 555] # presente com resultado válido\n",
    "df = df[df['tp_inscricao'] == 0] # Concluinte\n",
    "df = processes_idd_microdata(df)\n",
    "\n",
    "#2017\n",
    "oldcols = ['NU_ANO','CO_IES','CO_CATEGAD','CO_ORGACAD','CO_GRUPO','CO_CURSO','CO_MUNIC_CURSO','ANO_IN_GRAD','NT_GER','VL_NOTA_ENEM_CN','VL_NOTA_ENEM_CH','VL_NOTA_ENEM_LC','VL_NOTA_ENEM_MT']\n",
    "df = pd.read_table(files[2017],sep=';',usecols=oldcols)\n",
    "df.columns = ['ano','ies','catadm','orgacad','area','curso','municipio','ingresso','nota','cn','ch','lc','mt']\n",
    "df = processes_idd_microdata(df)"
   ]
  },
  {
   "cell_type": "markdown",
   "metadata": {},
   "source": [
    "Second, the **spreadsheets** with the results INEP published. Let's transform the ridiculous spreadsheets into nice csv files. We have the IDD spreadsheets for 2016 and 2017:"
   ]
  },
  {
   "cell_type": "code",
   "execution_count": 8,
   "metadata": {},
   "outputs": [],
   "source": [
    "idd18 = pd.read_excel('data/original/resultados_IDD_2018.xlsx',usecols=[1,7,8,9,15,17,19])\n",
    "idd18.columns = ['area','ca','curso','modalidade','N','idd','idd_faixa']\n",
    "idd18.curso = idd18.curso.astype('str')\n",
    "idd18['ano'] = 2018\n",
    "idd18.to_csv(os.path.join(processed,\"idd-pub-2018.csv\"),index=False)"
   ]
  },
  {
   "cell_type": "code",
   "execution_count": 8,
   "metadata": {},
   "outputs": [],
   "source": [
    "idd17 = pd.read_excel('data/original/resultados_IDD_2017.xlsx',usecols=[1,8,15,17])\n",
    "idd17.columns = ['area','curso','N','idd']\n",
    "idd17.curso = idd17.curso.astype('str')\n",
    "idd17['ano'] = 2017\n",
    "idd17.to_csv(os.path.join(processed,\"\n",
    "                          -2017.csv\"),index=False)"
   ]
  },
  {
   "cell_type": "code",
   "execution_count": 9,
   "metadata": {},
   "outputs": [],
   "source": [
    "idd16 = pd.read_excel('data/original/resultado_IDD2016_portal_06_09_2017.xlsx',usecols=[6,7,15,17])\n",
    "idd16.columns = ['curso','area','N','idd']\n",
    "idd16 = idd16[['area','curso','N','idd']]\n",
    "idd16.curso = idd16.curso.astype('str')\n",
    "idd16['ano'] = 2016\n",
    "idd16.to_csv(os.path.join(processed,\"idd-pub-2016.csv\"),index=False)"
   ]
  },
  {
   "cell_type": "code",
   "execution_count": 4,
   "metadata": {},
   "outputs": [],
   "source": [
    "enade18 = pd.read_excel('data/original/resultados_conceito_enade_2018.xlsx',usecols=[1,2,3,4,7,8,14,19,20])\n",
    "enade18.columns = ['area','nomarea','ies','nomies','ca','curso','N','enade','ce']\n",
    "enade18.curso = enade18.curso.astype('str')\n",
    "enade18['ano'] = 2018\n",
    "enade18.to_csv(os.path.join(processed,\"enade-pub-2018.csv\"),index=False)"
   ]
  },
  {
   "cell_type": "code",
   "execution_count": null,
   "metadata": {},
   "outputs": [],
   "source": []
  },
  {
   "cell_type": "markdown",
   "metadata": {},
   "source": [
    "But the same information is in the **CPC spreadsheets**. Unfortunately, as noted above, in the CPC spreadsheets the \"código do curso\" is only identified after 2015: \"O CPC, assim como o Conceito Enade, também passou a ser calculado, a partir da edição de 2015, por curso de graduação, identificado pelo código do curso constante no Sistema e-MEC\" (see [here](http://portal.inep.gov.br/conceito-preliminar-de-curso-cpc-))"
   ]
  },
  {
   "cell_type": "code",
   "execution_count": 20,
   "metadata": {},
   "outputs": [],
   "source": [
    "cpccatadmmap17 = {'Privada com fins lucrativos':'priv_cfl',\n",
    "                  'Privada sem fins lucrativos':'priv_sfl',\n",
    "                  'Pública Estadual':'pub',\n",
    "                  'Pública Federal':'pub',\n",
    "                  'Pública Municipal':'pub'\n",
    "                 }\n",
    "cpccatadmmap14 = {\"Pessoa Jurídica de Direito Público - Federal\":'pub',\n",
    "                  'Pessoa Jurídica de Direito Público - Municipal':'pub',\n",
    "                  'Pessoa Jurídica de Direito Público - Estadual':'pub',\n",
    "                  'Privada sem fins lucrativos':'priv_sfl',\n",
    "                  'Privada com fins lucrativos':'priv_cfl',\n",
    "                  'Pessoa Jurídica de Direito Privado - Sem fins lucrativos - Fundação':'priv_sfl',\n",
    "                  'Pessoa Jurídica de Direito Privado - Com fins lucrativos - Associação de Utilidade Pública': 'priv_cfl',\n",
    "                  'Pessoa Jurídica de Direito Privado - Sem fins lucrativos - Associação de Utilidade Pública':'priv_sfl',\n",
    "                  'Pessoa Jurídica de Direito Privado - Com fins lucrativos - Sociedade Mercantil ou Comercial':'priv_cfl',\n",
    "                  'Pessoa Jurídica de Direito Privado - Com fins lucrativos - Sociedade Civil':'priv_cfl',\n",
    "                  'Pessoa Jurídica de Direito Privado - Sem fins lucrativos - Fundação':'priv_sfl',\n",
    "                  'Pessoa Jurídica de Direito Privado - Sem fins lucrativos - Sociedade':'priv_sfl',\n",
    "                 }\n",
    "\n",
    "def xls2csv(ano,fn,cols,colnames):\n",
    "    df = pd.read_excel(fn,usecols=cols,na_values=['-','.'])\n",
    "    df.columns = colnames\n",
    "    if ano in [2015,2016]:\n",
    "        df = df[['area','ies','municipio','curso','N','fracN','idd','cpc','cpcf']]\n",
    "    if ano == 2012:\n",
    "        df = df[['area','ies','municipio','Ncursos','N','idd','cpc','cpcf']]\n",
    "    df['ano'] = ano\n",
    "    if ano == 2017:\n",
    "        df['adm'] = df['catadm'].map(cpccatadmmap17)\n",
    "    if ano == 2014:\n",
    "        df['adm'] = df['catadm'].map(cpccatadmmap14)\n",
    "    \n",
    "    return df"
   ]
  },
  {
   "cell_type": "code",
   "execution_count": 23,
   "metadata": {},
   "outputs": [],
   "source": [
    "cpcfiles = {2017:'data/original/resultado_cpc_2017.xlsx',\n",
    "            2016: 'data/original/Resultado_CPC_2016_portal_23_02_2018.xls',\n",
    "            2015: 'data/original/cpc_2015_portal_atualizado_03_10_2017.xls',\n",
    "            2014: 'data/original/cpc2014_atualizado_em_04122017.xlsx',\n",
    "            2013: 'data/original/cpc2013_atualizado_em_27112017.xls',\n",
    "            2012: 'data/original/cpc_2012_site_2014_03_14.xls'}\n",
    "\n",
    "# catadm = federal, privado, etc. Mapeado em pub, priv_sfl (sem fins lucrativos) e priv_cfl\n",
    "# modalidade = EaD ou presencial\n",
    "# Nci, Ncp e N = participantes inscritos, participantes e com ENEM resp.\n",
    "\n",
    "\n",
    "cpccols = {2017: [[1,3,5,6,7,8,9,10,13,14,17,18,19,20,35,36],['area','ies','siglies','orgacad','catadm','curso','modalidade','municipio','Nci','Ncp','enade','N','fracN','idd','cpc','cpcf']], #N = conluintes com nota no enem\n",
    "           2016: [[1,6,7,10,18,19,20,35,36],['ies','curso','area','municipio','N','fracN','idd','cpc','cpcf']], #idd = Nota Bruta - IDD\n",
    "           2015: [[1,6,7,10,18,19,20,35,36], ['ies','curso','area','municipio','N','fracN','idd','cpc','cpcf']],\n",
    "           2014: [[1,3,5,6,7,8,12,13,14,18,25,26,27,37,38], ['area','ies','siglies','catadm','orgacad','municipio','Ncursos','Nci','Ncp','enade','N','fracN','idd','cpc','cpcf']],\n",
    "           2013: [[1,3,8,12,14,29,37,38], ['area','ies','municipio','Ncursos','N','idd','cpc','cpcf']],\n",
    "           2012: [[1,3,8,9,13,24,36,37], ['area','ies','Ncursos','municipio','N','idd','cpc','cpcf']]}"
   ]
  },
  {
   "cell_type": "code",
   "execution_count": 22,
   "metadata": {},
   "outputs": [],
   "source": [
    "for ano in range(2012,2018):\n",
    "    df = xls2csv(ano,cpcfiles[ano],cols=cpccols[ano][0],colnames = cpccols[ano][1])\n",
    "    df.to_csv(os.path.join(processed,\"cpc-pub-{}.csv\".format(ano)),index=False)"
   ]
  },
  {
   "cell_type": "code",
   "execution_count": 27,
   "metadata": {},
   "outputs": [
    {
     "data": {
      "text/html": [
       "<div>\n",
       "<style scoped>\n",
       "    .dataframe tbody tr th:only-of-type {\n",
       "        vertical-align: middle;\n",
       "    }\n",
       "\n",
       "    .dataframe tbody tr th {\n",
       "        vertical-align: top;\n",
       "    }\n",
       "\n",
       "    .dataframe thead th {\n",
       "        text-align: right;\n",
       "    }\n",
       "</style>\n",
       "<table border=\"1\" class=\"dataframe\">\n",
       "  <thead>\n",
       "    <tr style=\"text-align: right;\">\n",
       "      <th></th>\n",
       "      <th>Código da Área</th>\n",
       "      <th>Código da IES</th>\n",
       "      <th>Sigla da IES</th>\n",
       "      <th>Categoria Administrativa</th>\n",
       "      <th>Organização Acadêmica</th>\n",
       "      <th>Código do Município</th>\n",
       "      <th>Número de cursos da unidade</th>\n",
       "      <th>Concluintes Inscritos</th>\n",
       "      <th>Concluintes Participantes</th>\n",
       "      <th>Nota Contínua do Enade</th>\n",
       "      <th>Concluintes Participantes com nota no Enem</th>\n",
       "      <th>Percentual de Concluintes participantes com nota no Enem</th>\n",
       "      <th>Nota Bruta - IDD</th>\n",
       "      <th>CPC Contínuo</th>\n",
       "      <th>CPC Faixa</th>\n",
       "    </tr>\n",
       "  </thead>\n",
       "  <tbody>\n",
       "    <tr>\n",
       "      <th>2289</th>\n",
       "      <td>1402</td>\n",
       "      <td>597</td>\n",
       "      <td>UFTM</td>\n",
       "      <td>Pessoa Jurídica de Direito Público - Federal</td>\n",
       "      <td>Universidade</td>\n",
       "      <td>3170107</td>\n",
       "      <td>1</td>\n",
       "      <td>9</td>\n",
       "      <td>9</td>\n",
       "      <td>3.157878</td>\n",
       "      <td>5</td>\n",
       "      <td>0.555556</td>\n",
       "      <td>0.851321</td>\n",
       "      <td>2.679939</td>\n",
       "      <td>3</td>\n",
       "    </tr>\n",
       "    <tr>\n",
       "      <th>7816</th>\n",
       "      <td>5814</td>\n",
       "      <td>588</td>\n",
       "      <td>UTFPR</td>\n",
       "      <td>Pessoa Jurídica de Direito Público - Federal</td>\n",
       "      <td>Universidade</td>\n",
       "      <td>4119905</td>\n",
       "      <td>1</td>\n",
       "      <td>4</td>\n",
       "      <td>4</td>\n",
       "      <td>0.946360</td>\n",
       "      <td>0</td>\n",
       "      <td>0.000000</td>\n",
       "      <td>NaN</td>\n",
       "      <td>2.130460</td>\n",
       "      <td>3</td>\n",
       "    </tr>\n",
       "    <tr>\n",
       "      <th>4211</th>\n",
       "      <td>2001</td>\n",
       "      <td>1950</td>\n",
       "      <td>FAO</td>\n",
       "      <td>Privada com fins lucrativos</td>\n",
       "      <td>Faculdade</td>\n",
       "      <td>3534302</td>\n",
       "      <td>1</td>\n",
       "      <td>12</td>\n",
       "      <td>12</td>\n",
       "      <td>3.489374</td>\n",
       "      <td>5</td>\n",
       "      <td>0.416667</td>\n",
       "      <td>-1.766277</td>\n",
       "      <td>NaN</td>\n",
       "      <td>NaN</td>\n",
       "    </tr>\n",
       "    <tr>\n",
       "      <th>6818</th>\n",
       "      <td>4006</td>\n",
       "      <td>2571</td>\n",
       "      <td>FACREDENTOR</td>\n",
       "      <td>Privada sem fins lucrativos</td>\n",
       "      <td>Faculdade</td>\n",
       "      <td>3302205</td>\n",
       "      <td>1</td>\n",
       "      <td>7</td>\n",
       "      <td>7</td>\n",
       "      <td>2.895459</td>\n",
       "      <td>4</td>\n",
       "      <td>0.571429</td>\n",
       "      <td>-0.002667</td>\n",
       "      <td>3.425381</td>\n",
       "      <td>4</td>\n",
       "    </tr>\n",
       "    <tr>\n",
       "      <th>8123</th>\n",
       "      <td>6008</td>\n",
       "      <td>578</td>\n",
       "      <td>UFBA</td>\n",
       "      <td>Pessoa Jurídica de Direito Público - Federal</td>\n",
       "      <td>Universidade</td>\n",
       "      <td>2927408</td>\n",
       "      <td>1</td>\n",
       "      <td>85</td>\n",
       "      <td>71</td>\n",
       "      <td>3.029296</td>\n",
       "      <td>12</td>\n",
       "      <td>0.169014</td>\n",
       "      <td>NaN</td>\n",
       "      <td>2.694972</td>\n",
       "      <td>3</td>\n",
       "    </tr>\n",
       "  </tbody>\n",
       "</table>\n",
       "</div>"
      ],
      "text/plain": [
       "      Código da Área  Código da IES Sigla da IES  \\\n",
       "2289            1402            597         UFTM   \n",
       "7816            5814            588        UTFPR   \n",
       "4211            2001           1950          FAO   \n",
       "6818            4006           2571  FACREDENTOR   \n",
       "8123            6008            578         UFBA   \n",
       "\n",
       "                          Categoria Administrativa Organização Acadêmica  \\\n",
       "2289  Pessoa Jurídica de Direito Público - Federal          Universidade   \n",
       "7816  Pessoa Jurídica de Direito Público - Federal          Universidade   \n",
       "4211                   Privada com fins lucrativos            Faculdade    \n",
       "6818                   Privada sem fins lucrativos            Faculdade    \n",
       "8123  Pessoa Jurídica de Direito Público - Federal          Universidade   \n",
       "\n",
       "      Código do Município  Número de cursos da unidade  Concluintes Inscritos  \\\n",
       "2289              3170107                            1                      9   \n",
       "7816              4119905                            1                      4   \n",
       "4211              3534302                            1                     12   \n",
       "6818              3302205                            1                      7   \n",
       "8123              2927408                            1                     85   \n",
       "\n",
       "      Concluintes Participantes  Nota Contínua do Enade  \\\n",
       "2289                          9                3.157878   \n",
       "7816                          4                0.946360   \n",
       "4211                         12                3.489374   \n",
       "6818                          7                2.895459   \n",
       "8123                         71                3.029296   \n",
       "\n",
       "      Concluintes Participantes com nota no Enem  \\\n",
       "2289                                           5   \n",
       "7816                                           0   \n",
       "4211                                           5   \n",
       "6818                                           4   \n",
       "8123                                          12   \n",
       "\n",
       "      Percentual de Concluintes participantes com nota no Enem  \\\n",
       "2289                                           0.555556          \n",
       "7816                                           0.000000          \n",
       "4211                                           0.416667          \n",
       "6818                                           0.571429          \n",
       "8123                                           0.169014          \n",
       "\n",
       "      Nota Bruta - IDD  CPC Contínuo CPC Faixa  \n",
       "2289          0.851321      2.679939         3  \n",
       "7816               NaN      2.130460         3  \n",
       "4211         -1.766277           NaN       NaN  \n",
       "6818         -0.002667      3.425381         4  \n",
       "8123               NaN      2.694972         3  "
      ]
     },
     "execution_count": 27,
     "metadata": {},
     "output_type": "execute_result"
    }
   ],
   "source": [
    "ano = 2014\n",
    "df = pd.read_excel(cpcfiles[ano],usecols=cpccols[ano][0],na_values=['-','.'])\n",
    "df.sample(5)"
   ]
  },
  {
   "cell_type": "code",
   "execution_count": null,
   "metadata": {},
   "outputs": [],
   "source": []
  }
 ],
 "metadata": {
  "kernelspec": {
   "display_name": "Python [conda env:root] *",
   "language": "python",
   "name": "conda-root-py"
  },
  "language_info": {
   "codemirror_mode": {
    "name": "ipython",
    "version": 3
   },
   "file_extension": ".py",
   "mimetype": "text/x-python",
   "name": "python",
   "nbconvert_exporter": "python",
   "pygments_lexer": "ipython3",
   "version": "3.6.8"
  }
 },
 "nbformat": 4,
 "nbformat_minor": 4
}
